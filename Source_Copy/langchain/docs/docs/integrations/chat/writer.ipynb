{
 "cells": [
  {
   "cell_type": "raw",
   "id": "85e07aae70a15572",
   "metadata": {},
   "source": [
    "---\n",
    "sidebar_label: Writer\n",
    "---"
   ]
  },
  {
   "cell_type": "markdown",
   "id": "cb4dd00a-8893-4a45-96f7-9a9fc341cd61",
   "metadata": {},
   "source": [
    "# ChatWriter\n",
    "\n",
    "This notebook provides a quick overview for getting started with Writer [chat models](/docs/concepts/chat_models).\n",
    "\n",
    "Writer has several chat models. You can find information about their latest models and their costs, context windows, and supported input types in the [Writer docs](https://dev.writer.com/home/models).\n",
    "\n",
    ":::"
   ]
  },
  {
   "cell_type": "markdown",
   "id": "617a6e98205ab7c8",
   "metadata": {},
   "source": [
    "## Overview\n",
    "\n",
    "### Integration details\n",
    "| Class | Package | Local | Serializable | JS support | Package downloads | Package latest |\n",
    "| :--- | :--- | :---: | :---: |:----------:| :---: | :---: |\n",
    "| ChatWriter | langchain-community | ❌ | ❌ |     ❌      | ❌ | ❌ |\n",
    "\n",
    "### Model features\n",
    "| [Tool calling](/docs/how_to/tool_calling) | Structured output | JSON mode | Image input | Audio input | Video input | [Token-level streaming](/docs/how_to/chat_streaming/) | Native async |         [Token usage](/docs/how_to/chat_token_usage_tracking/)          | Logprobs |\n",
    "| :---: |:-----------------:| :---: | :---: |  :---: | :---: | :---: | :---: |:--------------------------------:|:--------:|\n",
    "| ✅ |         ❌         | ❌ | ❌ | ❌ | ❌ | ✅ | ✅ |                ✅                 |    ❌     |\n",
    "\n",
    "## Setup\n",
    "\n",
    "To access Writer models you'll need to create a Writer account, get an API key, and install the `writer-sdk` and `langchain-community` packages.\n",
    "\n",
    "### Credentials\n",
    "\n",
    "Head to [Writer AI Studio](https://app.writer.com/aistudio/signup?utm_campaign=devrel) to sign up to OpenAI and generate an API key. Once you've done this set the WRITER_API_KEY environment variable:"
   ]
  },
  {
   "cell_type": "code",
   "execution_count": 1,
   "id": "e817fe2e-4f1d-4533-b19e-2400b1cf6ce8",
   "metadata": {
    "ExecuteTime": {
     "end_time": "2024-11-14T09:46:26.800627Z",
     "start_time": "2024-11-14T09:27:59.652281Z"
    }
   },
   "outputs": [],
   "source": [
    "import getpass\n",
    "import os\n",
    "\n",
    "if not os.environ.get(\"WRITER_API_KEY\"):\n",
    "    os.environ[\"WRITER_API_KEY\"] = getpass.getpass(\"Enter your Writer API key:\")"
   ]
  },
  {
   "cell_type": "markdown",
   "id": "c59722a9-6dbb-45f7-ae59-5be50ca5733d",
   "metadata": {},
   "source": [
    "### Installation\n",
    "\n",
    "The LangChain Writer integration lives in the `langchain-community` package:"
   ]
  },
  {
   "cell_type": "code",
   "execution_count": 2,
   "id": "2113471c-75d7-45df-b784-d78da4ef7aba",
   "metadata": {
    "ExecuteTime": {
     "end_time": "2024-11-14T09:46:32.415354Z",
     "start_time": "2024-11-14T09:46:26.826112Z"
    }
   },
   "outputs": [
    {
     "name": "stdout",
     "output_type": "stream",
     "text": [
      "\r\n",
      "\u001b[1m[\u001b[0m\u001b[34;49mnotice\u001b[0m\u001b[1;39;49m]\u001b[0m\u001b[39;49m A new release of pip is available: \u001b[0m\u001b[31;49m24.2\u001b[0m\u001b[39;49m -> \u001b[0m\u001b[32;49m24.3.1\u001b[0m\r\n",
      "\u001b[1m[\u001b[0m\u001b[34;49mnotice\u001b[0m\u001b[1;39;49m]\u001b[0m\u001b[39;49m To update, run: \u001b[0m\u001b[32;49mpip install --upgrade pip\u001b[0m\r\n",
      "Note: you may need to restart the kernel to use updated packages.\n"
     ]
    }
   ],
   "source": [
    "%pip install -qU langchain-community writer-sdk"
   ]
  },
  {
   "cell_type": "markdown",
   "id": "1098bc9d-ce83-462b-8c19-f85bf3a159dc",
   "metadata": {},
   "source": [
    "## Instantiation\n",
    "\n",
    "Now we can instantiate our model object and generate chat completions:"
   ]
  },
  {
   "cell_type": "code",
   "execution_count": 3,
   "id": "522686de",
   "metadata": {
    "ExecuteTime": {
     "end_time": "2024-11-14T09:46:33.504711Z",
     "start_time": "2024-11-14T09:46:32.574505Z"
    },
    "tags": []
   },
   "outputs": [],
   "source": [
    "from langchain_community.chat_models.writer import ChatWriter\n",
    "\n",
    "llm = ChatWriter(\n",
    "    model=\"palmyra-x-004\",\n",
    "    temperature=0.7,\n",
    "    max_tokens=1000,\n",
    "    # other params...\n",
    ")"
   ]
  },
  {
   "cell_type": "markdown",
   "id": "6511982a-734a-4193-a47d-254f8dcaff5e",
   "metadata": {},
   "source": [
    "## Invocation"
   ]
  },
  {
   "cell_type": "code",
   "execution_count": 4,
   "id": "ce16ad78-8e6f-48cd-954e-98be75eb5836",
   "metadata": {
    "ExecuteTime": {
     "end_time": "2024-11-14T09:46:38.856174Z",
     "start_time": "2024-11-14T09:46:33.520062Z"
    },
    "tags": []
   },
   "outputs": [],
   "source": [
    "messages = [\n",
    "    (\n",
    "        \"system\",\n",
    "        \"You are a helpful assistant that writes poems about the Python programming language.\",\n",
    "    ),\n",
    "    (\"human\", \"Write a poem about Python.\"),\n",
    "]\n",
    "ai_msg = llm.invoke(messages)"
   ]
  },
  {
   "cell_type": "code",
   "execution_count": 5,
   "id": "2cd224b8-4499-41fb-a604-d53a7ff17b2e",
   "metadata": {
    "ExecuteTime": {
     "end_time": "2024-11-14T09:46:38.866651Z",
     "start_time": "2024-11-14T09:46:38.863817Z"
    }
   },
   "outputs": [
    {
     "name": "stdout",
     "output_type": "stream",
     "text": [
      "In realms of code, where logic weaves and flows,\n",
      "A language rises, Python by its name,\n",
      "With syntax clear, where elegance it shows,\n",
      "A serpent, wise, that time and space can tame.\n",
      "\n",
      "Born from the mind of Guido, pure and bright,\n",
      "Its beauty lies in simplicity and grace,\n",
      "A tool of power, yet gentle in its might,\n",
      "In every programmer's heart, a cherished place.\n",
      "\n",
      "It dances through the data, vast and deep,\n",
      "With libraries that span the digital realm,\n",
      "From machine learning's secrets to keep,\n",
      "To web development, it wields the helm.\n",
      "\n",
      "In the hands of the novice and the sage,\n",
      "Python spins the threads of digital dreams,\n",
      "A language that can turn the age,\n",
      "With a gentle learning curve, its appeal gleams.\n",
      "\n",
      "It's more than code, a community it builds,\n",
      "Where knowledge freely flows, and all are heard,\n",
      "In Python's world, the future unfolds,\n",
      "A language of the people, for the world.\n",
      "\n",
      "So here's to Python, in its gentle might,\n",
      "A master of the modern coding art,\n",
      "May it continue to light our path each night,\n",
      "In the vast, evolving world of code, its heart.\n"
     ]
    }
   ],
   "source": [
    "print(ai_msg.content)"
   ]
  },
  {
   "cell_type": "markdown",
   "id": "35b3a5b3dabef65",
   "metadata": {},
   "source": [
    "## Streaming"
   ]
  },
  {
   "cell_type": "code",
   "execution_count": 6,
   "id": "2725770182bf96dc",
   "metadata": {
    "ExecuteTime": {
     "end_time": "2024-11-14T09:46:38.914883Z",
     "start_time": "2024-11-14T09:46:38.912564Z"
    }
   },
   "outputs": [],
   "source": [
    "ai_stream = llm.stream(messages)"
   ]
  },
  {
   "cell_type": "code",
   "execution_count": 7,
   "id": "a48410d9488162e3",
   "metadata": {
    "ExecuteTime": {
     "end_time": "2024-11-14T09:46:43.226449Z",
     "start_time": "2024-11-14T09:46:38.955512Z"
    }
   },
   "outputs": [
    {
     "name": "stdout",
     "output_type": "stream",
     "text": [
      "In realms of code where logic weaves,\n",
      "A language rises, Python, it breezes,\n",
      "With syntax clear and simple to read,\n",
      "Through its elegance, our spirits are fed.\n",
      "\n",
      "Like rivers flowing, smooth and serene,\n",
      "Its structure harmonious, a coder's dream,\n",
      "Indentations guide the flow of control,\n",
      "In Python's world, confusion takes no toll.\n",
      "\n",
      "A vast library, a treasure trove so bright,\n",
      "For web and data, it offers its might,\n",
      "With modules and packages, a rich array,\n",
      "Python empowers us to code in play.\n",
      "\n",
      "From AI to scripts, in flexibility it thrives,\n",
      "A language of the future, as many now derive,\n",
      "Its community, a beacon of support and cheer,\n",
      "With Python, the possibilities are vast, far and near.\n",
      "\n",
      "So here's to Python, in its gentle grace,\n",
      "A tool that enhances, a language that embraces,\n",
      "The art of coding, with a fluent, flowing pen,\n",
      "In the Python world, we code, and we begin."
     ]
    }
   ],
   "source": [
    "for chunk in ai_stream:\n",
    "    print(chunk.content, end=\"\")"
   ]
  },
  {
   "cell_type": "markdown",
   "id": "778f912a-66ea-4a5d-b3de-6c7db4baba26",
   "metadata": {},
   "source": [
    "## Chaining\n",
    "\n",
    "We can [chain](/docs/how_to/sequence/) our model with a prompt template like so:"
   ]
  },
  {
   "cell_type": "code",
   "execution_count": 8,
   "id": "fbb043e6",
   "metadata": {
    "ExecuteTime": {
     "end_time": "2024-11-14T09:46:50.721645Z",
     "start_time": "2024-11-14T09:46:43.234590Z"
    },
    "tags": []
   },
   "outputs": [
    {
     "data": {
      "text/plain": [
       "AIMessageChunk(content='In the realm of code, where logic weaves and flows,  \\nA language rises, like a phoenix from the code\\'s throes.  \\nJava, the name, a cup of coffee\\'s steam,  \\nBrewed in the minds, where digital dreams gleam.\\n\\nWith syntax clear, like morning\\'s misty hue,  \\nIn classes and objects, it spins a tale so true.  \\nA platform agnostic, with a byte to spare,  \\nAcross the devices, it journeys everywhere.\\n\\nInheritance and polymorphism, its power\\'s core,  \\nLike ancient runes, in every line they bore.  \\nEncapsulation, a shield, with data it does hide,  \\nIn the vast jungle of code, it stands as a guide.\\n\\nFrom applets small, to vast, server-side apps,  \\nIts threads run swift, through the computing traps.  \\nA language of the people, by the people, for the people’s use,  \\nBuilt on the principle, \"write once, run anywhere, with no excuse.\"\\n\\nIn the heart of Android, it beats, a steady drum,  \\nCrafting experiences, in every smartphone\\'s hum.  \\nIn the cloud, in the enterprise, its presence is vast,  \\nA cornerstone of computing, built to last.\\n\\nOh Java, thy elegance, thy robust design,  \\nA language that stands, in any computing line.  \\nWith every update, with every new release,  \\nThy community grows, with a vibrant, diverse peace.\\n\\nSo here\\'s to Java, the versatile, the grand,  \\nA language that shapes the digital land.  \\nMay it continue to evolve, to grow, to inspire,  \\nIn the endless quest of turning thoughts into digital fire.', additional_kwargs={}, response_metadata={'token_usage': {'completion_tokens': 345, 'prompt_tokens': 33, 'total_tokens': 378, 'completion_tokens_details': None, 'prompt_token_details': None}, 'model_name': 'palmyra-x-004', 'system_fingerprint': 'v1', 'finish_reason': 'stop'}, id='run-a5b4be59-0eb0-41bd-80f7-72477861b0bd-0')"
      ]
     },
     "execution_count": 8,
     "metadata": {},
     "output_type": "execute_result"
    }
   ],
   "source": [
    "from langchain_core.prompts import ChatPromptTemplate\n",
    "\n",
    "prompt = ChatPromptTemplate.from_messages(\n",
    "    [\n",
    "        (\n",
    "            \"system\",\n",
    "            \"You are a helpful assistant that writes poems about the {input_language} programming language.\",\n",
    "        ),\n",
    "        (\"human\", \"{input}\"),\n",
    "    ]\n",
    ")\n",
    "\n",
    "chain = prompt | llm\n",
    "chain.invoke(\n",
    "    {\n",
    "        \"input_language\": \"Java\",\n",
    "        \"input\": \"Write a poem about Java.\",\n",
    "    }\n",
    ")"
   ]
  },
  {
   "cell_type": "markdown",
   "id": "0b1b52a5-b58d-40c9-bcdd-88eb8fb351e2",
   "metadata": {},
   "source": [
    "## Tool calling\n",
    "\n",
    "Writer supports [tool calling](https://dev.writer.com/api-guides/tool-calling), which lets you describe tools and their arguments, and have the model return a JSON object with a tool to invoke and the inputs to that tool.\n",
    "\n",
    "### ChatWriter.bind_tools()\n",
    "\n",
    "With `ChatWriter.bind_tools`, we can easily pass in Pydantic classes, dict schemas, LangChain tools, or even functions as tools to the model. Under the hood these are converted to tool schemas, which looks like:\n",
    "```\n",
    "{\n",
    "    \"name\": \"...\",\n",
    "    \"description\": \"...\",\n",
    "    \"parameters\": {...}  # JSONSchema\n",
    "}\n",
    "```\n",
    "and passed in every model invocation."
   ]
  },
  {
   "cell_type": "code",
   "execution_count": 9,
   "id": "b7ea7690-ec7a-4337-b392-e87d1f39a6ec",
   "metadata": {
    "ExecuteTime": {
     "end_time": "2024-11-14T09:46:50.891937Z",
     "start_time": "2024-11-14T09:46:50.733463Z"
    }
   },
   "outputs": [],
   "source": [
    "from pydantic import BaseModel, Field\n",
    "\n",
    "\n",
    "class GetWeather(BaseModel):\n",
    "    \"\"\"Get the current weather in a given location\"\"\"\n",
    "\n",
    "    location: str = Field(..., description=\"The city and state, e.g. San Francisco, CA\")\n",
    "\n",
    "\n",
    "llm_with_tools = llm.bind_tools([GetWeather])"
   ]
  },
  {
   "cell_type": "code",
   "execution_count": 10,
   "id": "1d1ab955-6a68-42f8-bb5d-86eb1111478a",
   "metadata": {
    "ExecuteTime": {
     "end_time": "2024-11-14T09:46:51.725422Z",
     "start_time": "2024-11-14T09:46:50.904699Z"
    }
   },
   "outputs": [],
   "source": [
    "ai_msg = llm_with_tools.invoke(\n",
    "    \"what is the weather like in New York City\",\n",
    ")"
   ]
  },
  {
   "cell_type": "markdown",
   "id": "768d1ae4-4b1a-48eb-a329-c8d5051067a3",
   "metadata": {},
   "source": [
    "### AIMessage.tool_calls\n",
    "Notice that the AIMessage has a `tool_calls` attribute. This contains in a standardized ToolCall format that is model-provider agnostic."
   ]
  },
  {
   "cell_type": "code",
   "execution_count": 11,
   "id": "166cb7ce-831d-4a7c-9721-abc107f11084",
   "metadata": {
    "ExecuteTime": {
     "end_time": "2024-11-14T09:46:51.744202Z",
     "start_time": "2024-11-14T09:46:51.738431Z"
    }
   },
   "outputs": [
    {
     "data": {
      "text/plain": [
       "[{'name': 'GetWeather',\n",
       "  'args': {'location': 'New York City, NY'},\n",
       "  'id': 'chatcmpl-tool-fe70912c800d40fc8700d604d4823001',\n",
       "  'type': 'tool_call'}]"
      ]
     },
     "execution_count": 11,
     "metadata": {},
     "output_type": "execute_result"
    }
   ],
   "source": [
    "print(ai_msg.tool_calls)"
   ]
  },
  {
   "cell_type": "markdown",
   "id": "e082c9ac-c7c7-4aff-a8ec-8e220262a59c",
   "metadata": {},
   "source": [
    "For more on binding tools and tool call outputs, head to the [tool calling](/docs/how_to/function_calling) docs."
   ]
  },
  {
   "cell_type": "markdown",
   "id": "a796d728-971b-408b-88d5-440015bbb941",
   "metadata": {},
   "source": [
    "## API reference\n",
    "\n",
    "For detailed documentation of all Writer features, head to our [API reference](https://dev.writer.com/api-guides/api-reference/completion-api/chat-completion)."
   ]
  }
 ],
 "metadata": {
  "kernelspec": {
   "display_name": ".venv",
   "language": "python",
   "name": "python3"
  },
  "language_info": {
   "codemirror_mode": {
    "name": "ipython",
    "version": 3
   },
   "file_extension": ".py",
   "mimetype": "text/x-python",
   "name": "python",
   "nbconvert_exporter": "python",
   "pygments_lexer": "ipython3",
   "version": "3.11.4"
  }
 },
 "nbformat": 4,
 "nbformat_minor": 5
}
